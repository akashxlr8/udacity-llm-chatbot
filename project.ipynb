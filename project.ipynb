{
 "cells": [
  {
   "cell_type": "markdown",
   "id": "124e5672",
   "metadata": {},
   "source": [
    "# Custom Chatbot Project"
   ]
  },
  {
   "cell_type": "markdown",
   "id": "2a4a94b3",
   "metadata": {},
   "source": [
    "## Dataset Selection and Rationale\n",
    "\n",
    "For this custom chatbot project, I have chosen the **2023 Fashion Trends dataset** (`2023_fashion_trends.csv`). This dataset is perfectly suited for creating a fashion advice chatbot that can provide expert recommendations and insights about current fashion trends.\n",
    "\n",
    "**Why this dataset is appropriate:**\n",
    "\n",
    "1. **Rich Text Content**: The dataset contains detailed descriptions of fashion trends, styling advice, and expert commentary from fashion industry professionals, providing comprehensive context for fashion-related queries.\n",
    "\n",
    "2. **Specific Domain Knowledge**: Unlike a general-purpose chatbot, this dataset enables the creation of a specialized fashion advisor that can provide current, trend-specific recommendations based on 2023 fashion industry insights.\n",
    "\n",
    "3. **Practical Use Case**: Users can ask about specific trends, styling advice, color combinations, and seasonal fashion recommendations - creating clear value-add scenarios where custom data significantly improves response quality.\n",
    "\n",
    "4. **Authoritative Sources**: The data comes from reputable fashion publications like Refinery29, InStyle, Glamour, and Vogue, ensuring high-quality, expert-level fashion advice.\n",
    "\n",
    "5. **Sufficient Data Volume**: With detailed trend descriptions from multiple sources, the dataset provides enough content to demonstrate meaningful performance improvements over generic responses.\n",
    "\n",
    "**Target Scenario**: A fashion advice chatbot that can provide personalized styling recommendations, trend insights, and expert fashion guidance based on current 2023 fashion industry knowledge."
   ]
  },
  {
   "cell_type": "markdown",
   "id": "a63d4c5f",
   "metadata": {},
   "source": [
    "## Data Wrangling\n",
    "\n",
    "In this section, I load the chosen dataset into a pandas dataframe and create the required `\"text\"` column containing all relevant text data. The dataset contains 94 rows of fashion trend descriptions from authoritative fashion publications."
   ]
  },
  {
   "cell_type": "code",
   "execution_count": 2,
   "id": "c69b83a1",
   "metadata": {},
   "outputs": [
    {
     "name": "stdout",
     "output_type": "stream",
     "text": [
      "Dataset shape: (82, 3)\n",
      "\n",
      "Column names: ['URL', 'Trends', 'Source']\n",
      "\n",
      "First few rows:\n"
     ]
    },
    {
     "data": {
      "text/html": [
       "<div>\n",
       "<style scoped>\n",
       "    .dataframe tbody tr th:only-of-type {\n",
       "        vertical-align: middle;\n",
       "    }\n",
       "\n",
       "    .dataframe tbody tr th {\n",
       "        vertical-align: top;\n",
       "    }\n",
       "\n",
       "    .dataframe thead th {\n",
       "        text-align: right;\n",
       "    }\n",
       "</style>\n",
       "<table border=\"1\" class=\"dataframe\">\n",
       "  <thead>\n",
       "    <tr style=\"text-align: right;\">\n",
       "      <th></th>\n",
       "      <th>URL</th>\n",
       "      <th>Trends</th>\n",
       "      <th>Source</th>\n",
       "    </tr>\n",
       "  </thead>\n",
       "  <tbody>\n",
       "    <tr>\n",
       "      <th>0</th>\n",
       "      <td>https://www.refinery29.com/en-us/fashion-trend...</td>\n",
       "      <td>2023 Fashion Trend: Red. Glossy red hues took ...</td>\n",
       "      <td>7 Fashion Trends That Will Take Over 2023 — Sh...</td>\n",
       "    </tr>\n",
       "    <tr>\n",
       "      <th>1</th>\n",
       "      <td>https://www.refinery29.com/en-us/fashion-trend...</td>\n",
       "      <td>2023 Fashion Trend: Cargo Pants. Utilitarian w...</td>\n",
       "      <td>7 Fashion Trends That Will Take Over 2023 — Sh...</td>\n",
       "    </tr>\n",
       "    <tr>\n",
       "      <th>2</th>\n",
       "      <td>https://www.refinery29.com/en-us/fashion-trend...</td>\n",
       "      <td>2023 Fashion Trend: Sheer Clothing. \"Bare it a...</td>\n",
       "      <td>7 Fashion Trends That Will Take Over 2023 — Sh...</td>\n",
       "    </tr>\n",
       "    <tr>\n",
       "      <th>3</th>\n",
       "      <td>https://www.refinery29.com/en-us/fashion-trend...</td>\n",
       "      <td>2023 Fashion Trend: Denim Reimagined. From dou...</td>\n",
       "      <td>7 Fashion Trends That Will Take Over 2023 — Sh...</td>\n",
       "    </tr>\n",
       "    <tr>\n",
       "      <th>4</th>\n",
       "      <td>https://www.refinery29.com/en-us/fashion-trend...</td>\n",
       "      <td>2023 Fashion Trend: Shine For The Daytime. The...</td>\n",
       "      <td>7 Fashion Trends That Will Take Over 2023 — Sh...</td>\n",
       "    </tr>\n",
       "  </tbody>\n",
       "</table>\n",
       "</div>"
      ],
      "text/plain": [
       "                                                 URL  \\\n",
       "0  https://www.refinery29.com/en-us/fashion-trend...   \n",
       "1  https://www.refinery29.com/en-us/fashion-trend...   \n",
       "2  https://www.refinery29.com/en-us/fashion-trend...   \n",
       "3  https://www.refinery29.com/en-us/fashion-trend...   \n",
       "4  https://www.refinery29.com/en-us/fashion-trend...   \n",
       "\n",
       "                                              Trends  \\\n",
       "0  2023 Fashion Trend: Red. Glossy red hues took ...   \n",
       "1  2023 Fashion Trend: Cargo Pants. Utilitarian w...   \n",
       "2  2023 Fashion Trend: Sheer Clothing. \"Bare it a...   \n",
       "3  2023 Fashion Trend: Denim Reimagined. From dou...   \n",
       "4  2023 Fashion Trend: Shine For The Daytime. The...   \n",
       "\n",
       "                                              Source  \n",
       "0  7 Fashion Trends That Will Take Over 2023 — Sh...  \n",
       "1  7 Fashion Trends That Will Take Over 2023 — Sh...  \n",
       "2  7 Fashion Trends That Will Take Over 2023 — Sh...  \n",
       "3  7 Fashion Trends That Will Take Over 2023 — Sh...  \n",
       "4  7 Fashion Trends That Will Take Over 2023 — Sh...  "
      ]
     },
     "execution_count": 2,
     "metadata": {},
     "output_type": "execute_result"
    }
   ],
   "source": [
    "# Import required libraries\n",
    "import pandas as pd\n",
    "import openai\n",
    "\n",
    "# Load the 2023 fashion trends dataset\n",
    "df = pd.read_csv('2023_fashion_trends.csv')\n",
    "\n",
    "# Display basic information about the dataset\n",
    "print(\"Dataset shape:\", df.shape)\n",
    "print(\"\\nColumn names:\", df.columns.tolist())\n",
    "print(\"\\nFirst few rows:\")\n",
    "df.head()"
   ]
  },
  {
   "cell_type": "code",
   "execution_count": 3,
   "id": "0a595980",
   "metadata": {},
   "outputs": [
    {
     "name": "stdout",
     "output_type": "stream",
     "text": [
      "Data types:\n",
      "URL       object\n",
      "Trends    object\n",
      "Source    object\n",
      "dtype: object\n",
      "\n",
      "Total number of rows: 82\n",
      "Non-null values in each column:\n",
      "URL       0\n",
      "Trends    0\n",
      "Source    0\n",
      "dtype: int64\n",
      "\n",
      "Sample trend descriptions:\n",
      "\n",
      "1. 2023 Fashion Trend: Red. Glossy red hues took over the Fall 2023 runways ranging from Sandy Liang and PatBo to Tory Burch and Wiederhoeft. Think: Juicy reds with vibrant orange undertones that would l...\n",
      "\n",
      "2. 2023 Fashion Trend: Cargo Pants. Utilitarian wear is in for 2023, which sets the stage for the return of the cargo pant. But these aren't the shapeless, low-rise pants of the Y2K era. For spring, this...\n",
      "\n",
      "3. 2023 Fashion Trend: Sheer Clothing. \"Bare it all\" has been the motto since the end of the lockdown. In 2023,  naked dressing makes its way from the red carpet – where celebrities like Cher and Rihanna...\n"
     ]
    }
   ],
   "source": [
    "# Examine the data structure and content\n",
    "print(\"Data types:\")\n",
    "print(df.dtypes)\n",
    "print(f\"\\nTotal number of rows: {len(df)}\")\n",
    "print(f\"Non-null values in each column:\")\n",
    "print(df.isnull().sum())\n",
    "\n",
    "# Look at a few sample trend descriptions\n",
    "print(\"\\nSample trend descriptions:\")\n",
    "for i, trend in enumerate(df['Trends'].head(3)):\n",
    "    print(f\"\\n{i+1}. {trend[:200]}...\")"
   ]
  },
  {
   "cell_type": "code",
   "execution_count": 4,
   "id": "acb3a9fd",
   "metadata": {},
   "outputs": [
    {
     "name": "stdout",
     "output_type": "stream",
     "text": [
      "Number of rows with text data: 82\n",
      "Average text length: 433 characters\n",
      "Minimum text length: 148 characters\n",
      "Maximum text length: 810 characters\n",
      "\n",
      "Final dataframe columns: ['URL', 'Trends', 'Source', 'text']\n",
      "Sample text entries:\n",
      "\n",
      "Entry 1: 2023 Fashion Trend: Red. Glossy red hues took over the Fall 2023 runways ranging from Sandy Liang and PatBo to Tory Burch and Wiederhoeft. Think: Juic...\n",
      "\n",
      "Entry 2: 2023 Fashion Trend: Cargo Pants. Utilitarian wear is in for 2023, which sets the stage for the return of the cargo pant. But these aren't the shapeles...\n",
      "\n",
      "✓ Requirements met: 82 rows with 'text' column created successfully!\n"
     ]
    }
   ],
   "source": [
    "# Create the required 'text' column by combining relevant information\n",
    "# We'll use the 'Trends' column as our primary text data since it contains the detailed fashion trend descriptions\n",
    "df['text'] = df['Trends'].copy()\n",
    "\n",
    "# Clean the text data - remove extra quotes and normalize whitespace\n",
    "df['text'] = df['text'].str.replace('\"', '').str.replace('\"\"', '').str.strip()\n",
    "\n",
    "# Verify we have at least 20 rows with text data\n",
    "print(f\"Number of rows with text data: {len(df)}\")\n",
    "print(f\"Average text length: {df['text'].str.len().mean():.0f} characters\")\n",
    "print(f\"Minimum text length: {df['text'].str.len().min()} characters\")\n",
    "print(f\"Maximum text length: {df['text'].str.len().max()} characters\")\n",
    "\n",
    "# Display the final dataframe structure\n",
    "print(f\"\\nFinal dataframe columns: {df.columns.tolist()}\")\n",
    "print(f\"Sample text entries:\")\n",
    "for i, text in enumerate(df['text'].head(2)):\n",
    "    print(f\"\\nEntry {i+1}: {text[:150]}...\")\n",
    "\n",
    "# Verify requirements are met\n",
    "assert len(df) >= 20, \"Dataset must have at least 20 rows\"\n",
    "assert 'text' in df.columns, \"Dataset must have a 'text' column\"\n",
    "print(f\"\\n✓ Requirements met: {len(df)} rows with 'text' column created successfully!\")"
   ]
  },
  {
   "cell_type": "markdown",
   "id": "ae769871",
   "metadata": {},
   "source": [
    "## Custom Query Completion\n",
    "\n",
    "In this section, I implement the custom query system that integrates the fashion trends dataset with OpenAI's Completion model. The system creates specialized prompts that incorporate fashion trend context to provide expert-level fashion advice."
   ]
  },
  {
   "cell_type": "code",
   "execution_count": 14,
   "id": "582f0656",
   "metadata": {},
   "outputs": [],
   "source": [
    "def basic_openai_query(prompt, max_tokens=150, temperature=0.7):\n",
    "    \"\"\"\n",
    "    Send a basic query to OpenAI without custom data\n",
    "    \"\"\"\n",
    "    try:\n",
    "        response = client.chat.completions.create(\n",
    "            model=\"gpt-4.1-mini\",  # or \"gpt-4o\", \"gpt-3.5-turbo\"\n",
    "            messages=[\n",
    "                {\"role\": \"system\", \"content\": \"You are a helpful assistant who gives clear and concise answers.\"},\n",
    "                {\"role\": \"user\", \"content\": prompt}\n",
    "            ],\n",
    "            max_tokens=max_tokens,\n",
    "            temperature=temperature\n",
    "        )\n",
    "        return response.choices[0].message.content.strip()\n",
    "    except Exception as e:\n",
    "        return f\"Error: {str(e)}\"\n"
   ]
  },
  {
   "cell_type": "code",
   "execution_count": 15,
   "id": "8b6e1f75",
   "metadata": {},
   "outputs": [
    {
     "name": "stdout",
     "output_type": "stream",
     "text": [
      "Custom prompt length: 1579\n",
      "Sample of custom prompt:\n",
      "You are a fashion expert advisor with access to the latest 2023 fashion trends and styling insights from top fashion publications. Use the following fashion trend information to provide expert advice:\n",
      "\n",
      "FASHION TRENDS CONTEXT:\n",
      "2023 Fashion Trend: Red. Glossy red hues took over the Fall 2023 runways ranging from Sandy Liang and PatBo to Tory Burch and Wiederhoeft. Think: Juicy reds with vibrant orange undertones that would look just as good in head-to-toe looks (see: a pantsuit) as accent accessor...\n"
     ]
    }
   ],
   "source": [
    "def create_custom_prompt(user_question, fashion_data, max_context_length=1500):\n",
    "    \"\"\"\n",
    "    Create a custom prompt that incorporates fashion trend data\n",
    "    \"\"\"\n",
    "    # Select relevant fashion trend information\n",
    "    context_texts = []\n",
    "    total_length = 0\n",
    "    \n",
    "    for text in fashion_data['text']:\n",
    "        if total_length + len(text) < max_context_length:\n",
    "            context_texts.append(text)\n",
    "            total_length += len(text)\n",
    "        else:\n",
    "            break\n",
    "    \n",
    "    # Combine context\n",
    "    context = \"\\n\\n\".join(context_texts)\n",
    "    \n",
    "    # Create the custom prompt\n",
    "    custom_prompt = f\"\"\"You are a fashion expert advisor with access to the latest 2023 fashion trends and styling insights from top fashion publications. Use the following fashion trend information to provide expert advice:\n",
    "\n",
    "FASHION TRENDS CONTEXT:\n",
    "{context}\n",
    "\n",
    "Based on this expert fashion knowledge, please answer the following question with specific, trend-aware advice:\n",
    "\n",
    "Question: {user_question}\n",
    "\n",
    "Answer:\"\"\"\n",
    "    \n",
    "    return custom_prompt\n",
    "\n",
    "# Test the custom prompt creation\n",
    "test_question = \"What colors should I wear this year?\"\n",
    "custom_prompt = create_custom_prompt(test_question, df)\n",
    "print(\"Custom prompt length:\", len(custom_prompt))\n",
    "print(\"Sample of custom prompt:\")\n",
    "print(custom_prompt[:500] + \"...\" if len(custom_prompt) > 500 else custom_prompt)"
   ]
  },
  {
   "cell_type": "code",
   "execution_count": 10,
   "id": "18124d77",
   "metadata": {},
   "outputs": [
    {
     "name": "stderr",
     "output_type": "stream",
     "text": [
      "\n",
      "[notice] A new release of pip is available: 24.2 -> 25.2\n",
      "[notice] To update, run: python.exe -m pip install --upgrade pip\n"
     ]
    }
   ],
   "source": [
    "!pip install python-dotenv --quiet"
   ]
  },
  {
   "cell_type": "code",
   "execution_count": 11,
   "id": "13f2dcd7",
   "metadata": {},
   "outputs": [
    {
     "name": "stdout",
     "output_type": "stream",
     "text": [
      "Testing Fashion Advisor Query:\n",
      "Question: What should I wear for a spring outfit?\n",
      "Custom Response: For a stylish and on-trend spring outfit in 2023, I recommend combining these key trends for a fresh, fashion-forward look:\n",
      "\n",
      "Start with a pair of tailored cargo pants in an unexpected color—think soft pastel shades like lavender or blush, or even a sleek white or cream. Opt for cargos made from elevated fabrics such as silk or organza for a polished, sophisticated feel that moves beyond utilitarian basics.\n",
      "\n",
      "Pair the pants with a sheer blouse or top to embrace the “naked dressing” trend. Choose a delicate organza or chiffon blouse in a neutral or soft tone, layering it over a chic bralette or camisole in a complementary color. This adds a subtle touch of sensuality while keeping the look elegant and wearable for spring.\n",
      "\n",
      "Incorporate a pop of glossy red—a key color for 2023—through your accessories. Think vibrant red shoes, such as strappy sandals or sleek mules, or a red handbag with juicy orange undertones to add energy and vibr\n"
     ]
    }
   ],
   "source": [
    "from openai import OpenAI\n",
    "import os\n",
    "from dotenv import load_dotenv\n",
    "# Load environment variables\n",
    "load_dotenv()\n",
    "client = OpenAI(\n",
    "    api_key=os.getenv(\"VOCERUM_API_KEY\"),  # Replace with your actual API key\n",
    "    base_url=os.getenv(\"VOCERUM_BASE_URL\"), \n",
    ")\n",
    "\n",
    "def fashion_advisor_query(user_question, fashion_data, max_tokens=200, temperature=0.7):\n",
    "    \"\"\"\n",
    "    Custom query function that provides fashion advice using the dataset\n",
    "    \"\"\"\n",
    "    # Create custom prompt with fashion context\n",
    "    custom_prompt = create_custom_prompt(user_question, fashion_data)\n",
    "\n",
    "    try:\n",
    "        response = client.chat.completions.create(\n",
    "            model=\"gpt-4.1-mini\",  # or \"gpt-4o\" / \"gpt-4o-mini\"\n",
    "            messages=[\n",
    "                {\"role\": \"system\", \"content\": \"You are a fashion advisor who gives personalized outfit suggestions.\"},\n",
    "                {\"role\": \"user\", \"content\": custom_prompt}\n",
    "            ],\n",
    "            max_tokens=max_tokens,\n",
    "            temperature=temperature\n",
    "        )\n",
    "        return response.choices[0].message.content.strip()\n",
    "    except Exception as e:\n",
    "        return f\"Error: {str(e)}\"\n",
    "\n",
    "# Test the custom fashion advisor\n",
    "test_question = \"What should I wear for a spring outfit?\"\n",
    "print(\"Testing Fashion Advisor Query:\")\n",
    "print(\"Question:\", test_question)\n",
    "print(\"Custom Response:\", fashion_advisor_query(test_question, df))\n"
   ]
  },
  {
   "cell_type": "code",
   "execution_count": 16,
   "id": "c403f543",
   "metadata": {},
   "outputs": [
    {
     "name": "stdout",
     "output_type": "stream",
     "text": [
      "============================================================\n",
      "QUESTION: What are the trending colors for this year?\n",
      "============================================================\n",
      "\n",
      "🤖 BASIC OPENAI RESPONSE:\n",
      "------------------------------\n",
      "The trending colors for 2024 include:\n",
      "\n",
      "1. **Digital Lavender** – A soft, calming purple that symbolizes wellness and digital escapism.\n",
      "2. **Sundial** – A warm, earthy beige that brings a sense of grounding and balance.\n",
      "3. **Verdigris** – A vibrant teal-green inspired by aged copper, reflecting a connection to nature.\n",
      "4. **Tranquil Blue** – A soothing, light blue promoting calmness and clarity.\n",
      "5. **Spiced Coral** – A warm, energetic coral with a hint of spice, adding vibrancy.\n",
      "6. **Soft Sage** – A muted green that encourages relaxation and harmony.\n",
      "7. **Warm Terracotta** – An earthy, reddish-brown tone that feels\n",
      "\n",
      "✨ FASHION ADVISOR RESPONSE (with 2023 trends data):\n",
      "--------------------------------------------------\n",
      "The trending colors for 2023 prominently feature glossy, vibrant reds with orange undertones—a juicy red palette that commands attention. These reds are versatile enough to be worn head-to-toe, such as in a striking red pantsuit, or as accent pieces like shoes, handbags, and jewelry. Beyond red, the trend leans towards rich, saturated hues that complement utilitarian styles like tailored cargo pants and sheer clothing, elevating classic silhouettes with bold color choices. So for 2023, think vivid, glossy reds as your statement color of the year.\n",
      "\n",
      "============================================================\n"
     ]
    },
    {
     "data": {
      "text/plain": [
       "('The trending colors for 2024 include:\\n\\n1. **Digital Lavender** – A soft, calming purple that symbolizes wellness and digital escapism.\\n2. **Sundial** – A warm, earthy beige that brings a sense of grounding and balance.\\n3. **Verdigris** – A vibrant teal-green inspired by aged copper, reflecting a connection to nature.\\n4. **Tranquil Blue** – A soothing, light blue promoting calmness and clarity.\\n5. **Spiced Coral** – A warm, energetic coral with a hint of spice, adding vibrancy.\\n6. **Soft Sage** – A muted green that encourages relaxation and harmony.\\n7. **Warm Terracotta** – An earthy, reddish-brown tone that feels',\n",
       " 'The trending colors for 2023 prominently feature glossy, vibrant reds with orange undertones—a juicy red palette that commands attention. These reds are versatile enough to be worn head-to-toe, such as in a striking red pantsuit, or as accent pieces like shoes, handbags, and jewelry. Beyond red, the trend leans towards rich, saturated hues that complement utilitarian styles like tailored cargo pants and sheer clothing, elevating classic silhouettes with bold color choices. So for 2023, think vivid, glossy reds as your statement color of the year.')"
      ]
     },
     "execution_count": 16,
     "metadata": {},
     "output_type": "execute_result"
    }
   ],
   "source": [
    "def compare_responses(question):\n",
    "    \"\"\"\n",
    "    Compare basic OpenAI response vs custom fashion advisor response\n",
    "    \"\"\"\n",
    "    print(\"=\"*60)\n",
    "    print(f\"QUESTION: {question}\")\n",
    "    print(\"=\"*60)\n",
    "    \n",
    "    # Get basic response\n",
    "    print(\"\\n🤖 BASIC OPENAI RESPONSE:\")\n",
    "    print(\"-\" * 30)\n",
    "    basic_response = basic_openai_query(question)\n",
    "    print(basic_response)\n",
    "    \n",
    "    # Get custom response\n",
    "    print(f\"\\n✨ FASHION ADVISOR RESPONSE (with 2023 trends data):\")\n",
    "    print(\"-\" * 50)\n",
    "    custom_response = fashion_advisor_query(question, df)\n",
    "    print(custom_response)\n",
    "    \n",
    "    print(\"\\n\" + \"=\"*60)\n",
    "    \n",
    "    return basic_response, custom_response\n",
    "\n",
    "# Test the comparison function\n",
    "compare_responses(\"What are the trending colors for this year?\")"
   ]
  },
  {
   "cell_type": "code",
   "execution_count": 17,
   "id": "74280b92",
   "metadata": {},
   "outputs": [
    {
     "name": "stdout",
     "output_type": "stream",
     "text": [
      "CUSTOM QUERY SYSTEM VALIDATION\n",
      "========================================\n",
      "✓ Dataset loaded: 82 fashion trend entries\n",
      "✓ Text data available: 82 valid entries\n",
      "✓ Average trend description length: 433 characters\n",
      "✓ Sample trend topics: Fashion Trend, anticipated fashion, this spring, great news, we know\n",
      "✓ Custom prompt generation: Working (length: 689 chars)\n",
      "\n",
      "✓ Custom Fashion Advisor ready for demonstration!\n",
      "✓ Basic vs Custom comparison system ready!\n",
      "\n",
      "Proceed to performance demonstration below...\n"
     ]
    }
   ],
   "source": [
    "# Validate the custom query system is working properly\n",
    "print(\"CUSTOM QUERY SYSTEM VALIDATION\")\n",
    "print(\"=\"*40)\n",
    "\n",
    "# Check dataset integration\n",
    "print(f\"✓ Dataset loaded: {len(df)} fashion trend entries\")\n",
    "print(f\"✓ Text data available: {df['text'].notna().sum()} valid entries\")\n",
    "print(f\"✓ Average trend description length: {df['text'].str.len().mean():.0f} characters\")\n",
    "\n",
    "# Sample trend topics covered\n",
    "sample_trends = df['text'].str.extract(r'(\\w+\\s+\\w+)(?:\\s+trend|:)', expand=False).dropna().unique()[:5]\n",
    "print(f\"✓ Sample trend topics: {', '.join(sample_trends)}\")\n",
    "\n",
    "# Verify functions are working\n",
    "try:\n",
    "    test_prompt = create_custom_prompt(\"What should I wear?\", df.head(5), max_context_length=500)\n",
    "    print(f\"✓ Custom prompt generation: Working (length: {len(test_prompt)} chars)\")\n",
    "except Exception as e:\n",
    "    print(f\"✗ Custom prompt generation: Error - {e}\")\n",
    "\n",
    "print(f\"\\n✓ Custom Fashion Advisor ready for demonstration!\")\n",
    "print(\"✓ Basic vs Custom comparison system ready!\")\n",
    "print(\"\\nProceed to performance demonstration below...\")"
   ]
  },
  {
   "cell_type": "markdown",
   "id": "1783f146",
   "metadata": {},
   "source": [
    "## Custom Performance Demonstration\n",
    "\n",
    "This section demonstrates the clear performance improvement of the custom fashion advisor compared to basic OpenAI responses. Each question showcases how the integrated fashion dataset provides specific, trend-aware advice that significantly enhances the chatbot's value."
   ]
  },
  {
   "cell_type": "markdown",
   "id": "4f11fdc0",
   "metadata": {},
   "source": [
    "### Question 1"
   ]
  },
  {
   "cell_type": "code",
   "execution_count": 18,
   "id": "4901c850",
   "metadata": {},
   "outputs": [
    {
     "name": "stdout",
     "output_type": "stream",
     "text": [
      "============================================================\n",
      "QUESTION: How should I style denim pieces for a modern look?\n",
      "============================================================\n",
      "\n",
      "🤖 BASIC OPENAI RESPONSE:\n",
      "------------------------------\n",
      "To style denim pieces for a modern look, consider these tips:\n",
      "\n",
      "1. **Mix Denim with Different Textures:** Pair denim jeans or jackets with soft knits, leather, or silk to create contrast and add interest.\n",
      "2. **Opt for Tailored Fits:** Choose well-fitted denim like straight-leg or slim-fit jeans rather than overly baggy or overly tight styles for a sleek silhouette.\n",
      "3. **Double Denim Done Right:** If you want to wear denim on denim, vary the shades (light wash jeans with a dark denim jacket) and add a neutral or colorful top underneath to break up the look.\n",
      "4. **Add Modern Accessories:** Incorporate trendy accessories like chunky sneakers, statement belts, or minimalist jewelry to elevate your denim outfit.\n",
      "\n",
      "✨ FASHION ADVISOR RESPONSE (with 2023 trends data):\n",
      "--------------------------------------------------\n",
      "To style denim pieces for a modern, on-trend 2023 look, consider these expert tips that incorporate the season’s hottest trends:\n",
      "\n",
      "1. **Pair Denim with Glossy Red Accents:**  \n",
      "Incorporate vibrant red accessories to elevate your denim outfit. For example, wear straight-leg or tailored denim jeans with a glossy red handbag or bold red shoes. The juicy red tones with orange undertones will add an energetic pop that’s fresh and fashion-forward.\n",
      "\n",
      "2. **Opt for Tailored or Elevated Denim Silhouettes:**  \n",
      "Move away from overly casual or shapeless denim. Choose denim pieces with a more tailored fit or interesting details—such as high-waisted straight-leg jeans or denim skirts with structured cuts—to echo the elevated approach seen in cargo pants this year.\n",
      "\n",
      "3. **Layer with Sheer Pieces:**  \n",
      "Add a sheer blouse or overlay to your denim outfit for a modern, edgy vibe. For example, a sheer organza top over a denim skirt or jeans creates a striking\n",
      "\n",
      "============================================================\n"
     ]
    }
   ],
   "source": [
    "# Question 1: Specific trend inquiry about denim styling\n",
    "question1 = \"How should I style denim pieces for a modern look?\"\n",
    "\n",
    "basic_resp1, custom_resp1 = compare_responses(question1)"
   ]
  },
  {
   "cell_type": "markdown",
   "id": "6e86e37c",
   "metadata": {},
   "source": [
    "### Question 2"
   ]
  },
  {
   "cell_type": "code",
   "execution_count": 20,
   "id": "6f646989",
   "metadata": {},
   "outputs": [
    {
     "name": "stdout",
     "output_type": "stream",
     "text": [
      "============================================================\n",
      "QUESTION: What are the must-have colors to wear this season?\n",
      "============================================================\n",
      "\n",
      "🤖 BASIC OPENAI RESPONSE:\n",
      "------------------------------\n",
      "This season's must-have colors typically include:\n",
      "\n",
      "1. **Warm Earth Tones:** Shades like terracotta, burnt orange, and rich browns are very popular.\n",
      "2. **Soft Pastels:** Light pinks, lilacs, and baby blues offer a fresh, gentle look.\n",
      "3. **Vibrant Reds:** Bold reds and crimson hues make a strong fashion statement.\n",
      "4. **Classic Neutrals:** Beige, cream, and soft greys remain versatile and stylish.\n",
      "5. **Deep Greens:** Emerald and olive greens add a touch of sophistication.\n",
      "\n",
      "These colors can be mixed and matched to create trendy and seasonally appropriate outfits!\n",
      "\n",
      "✨ FASHION ADVISOR RESPONSE (with 2023 trends data):\n",
      "--------------------------------------------------\n",
      "The must-have colors to wear this season are vibrant, glossy reds with warm orange undertones—think juicy, attention-grabbing hues that work beautifully from head-to-toe or as striking accent pieces like shoes and handbags. Beyond red, incorporate colors found in elevated cargo pants such as sophisticated shades that go beyond traditional khaki and olive—consider tailored neutrals or unexpected hues in silk or organza fabrics. Additionally, sheer clothing trends pair well with bold, saturated colors underneath, so layering vibrant tones beneath translucent fabrics is a key styling move for 2023. Overall, prioritize rich reds and a curated palette of elevated neutrals and bold hues to stay on-trend this season.\n",
      "\n",
      "============================================================\n"
     ]
    }
   ],
   "source": [
    "# Question 2: Color trend inquiry\n",
    "question2 = \"What are the must-have colors to wear this season?\"\n",
    "\n",
    "basic_resp2, custom_resp2 = compare_responses(question2)"
   ]
  },
  {
   "cell_type": "code",
   "execution_count": 22,
   "id": "62b8211f",
   "metadata": {},
   "outputs": [
    {
     "name": "stdout",
     "output_type": "stream",
     "text": [
      "Welcome to the 2023 Fashion Advisor! Type your fashion question below (or type 'exit' to quit):\n",
      "\n",
      "Fashion Advisor Response:\n",
      "It looks like your question didn't come through—could you please share what specific outfit advice or styling tips you're looking for? For example, are you interested in incorporating red hues, cargo pants, or sheer clothing into your wardrobe? Let me know, and I'll provide personalized, trend-savvy recommendations based on the latest 2023 fashion insights!\n",
      "\n",
      "Fashion Advisor Response:\n",
      "For your Goa trip, embracing light, breathable, and stylish pieces that align with 2023 trends will keep you both comfortable and fashion-forward.\n",
      "\n",
      "Here’s a trend-savvy outfit suggestion:\n",
      "\n",
      "- **Sheer Clothing:** Opt for a lightweight sheer dress or a sheer blouse paired with a vibrant bikini or bralette underneath. This plays right into the 2023 sheer trend while keeping you cool and beach-ready. Choose airy fabrics like organza or chiffon in light or bright colors to channel that breezy coastal vibe.\n",
      "\n",
      "- **Pops of Red:** Incorporate juicy red hues with vibrant orange undertones as accent pieces. For example, pair your sheer outfit with a glossy red handbag or red strappy sandals. This will add a trendy, energizing pop of color inspired by Fall 2023’s glossy red trend.\n",
      "\n",
      "- **Tailored Cargo Shorts or Pants:** If you prefer pants, go for lightweight tailored cargo shorts or cropped cargo pants in a light fabric like silk or linen blend. Choose a\n",
      "Thank you for using the Fashion Advisor. Goodbye!\n"
     ]
    }
   ],
   "source": [
    "# Interactive fashion advisor loop\n",
    "print(\"Welcome to the 2023 Fashion Advisor! Type your fashion question below (or type 'exit' to quit):\")\n",
    "\n",
    "while True:\n",
    "    user_question = input(\"\\nYour question: \")\n",
    "    if user_question.strip().lower() in ['exit', 'quit']:\n",
    "        print(\"Thank you for using the Fashion Advisor. Goodbye!\")\n",
    "        break\n",
    "\n",
    "    # Get custom fashion advice using the dataset\n",
    "    response = fashion_advisor_query(user_question, df)\n",
    "    print(\"\\nFashion Advisor Response:\")\n",
    "    print(response)"
   ]
  },
  {
   "cell_type": "code",
   "execution_count": null,
   "id": "61ac9960",
   "metadata": {},
   "outputs": [],
   "source": []
  }
 ],
 "metadata": {
  "kernelspec": {
   "display_name": ".venv",
   "language": "python",
   "name": "python3"
  },
  "language_info": {
   "codemirror_mode": {
    "name": "ipython",
    "version": 3
   },
   "file_extension": ".py",
   "mimetype": "text/x-python",
   "name": "python",
   "nbconvert_exporter": "python",
   "pygments_lexer": "ipython3",
   "version": "3.12.5"
  }
 },
 "nbformat": 4,
 "nbformat_minor": 5
}
